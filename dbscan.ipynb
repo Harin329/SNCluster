{
 "cells": [
  {
   "cell_type": "code",
   "execution_count": 1,
   "id": "b0170aef-a103-4206-aa9b-8ac578925779",
   "metadata": {},
   "outputs": [],
   "source": [
    "import pandas as pd\n",
    "import numpy as np\n",
    "import umap\n",
    "import matplotlib.pyplot as plt\n",
    "import seaborn as sns\n",
    "from sklearn.neighbors import NearestNeighbors\n",
    "from sklearn.cluster import DBSCAN\n",
    "from sklearn.manifold import TSNE\n",
    "\n",
    "np.random.seed(42)"
   ]
  },
  {
   "cell_type": "code",
   "execution_count": 2,
   "id": "e78c237a-637e-4be1-89a1-d74d2b991b3c",
   "metadata": {},
   "outputs": [],
   "source": [
    "df = pd.read_csv('./GSE150150_raw_counts.csv')"
   ]
  },
  {
   "cell_type": "markdown",
   "id": "df9b75b0-d824-4404-b9e8-508b35a81325",
   "metadata": {},
   "source": [
    "# Preprocessing Data\n",
    "Will have 3 version to work with: `raw_counts`, `scaled_data`, `log_data`. Using log10 here, but any could work."
   ]
  },
  {
   "cell_type": "code",
   "execution_count": 3,
   "id": "16992e3d-30fc-47c6-9e2f-07dc437913d5",
   "metadata": {},
   "outputs": [],
   "source": [
    "sampleDf = df\n",
    "\n",
    "# X is shape of np.array([[1, 2], [2, 3], [1, 3], [10, 1], [9, 3], [11, 3]])\n",
    "# Getting gene counts across all samples\n",
    "X = sampleDf.iloc[:,1:].values\n",
    "X = np.transpose(X)"
   ]
  },
  {
   "cell_type": "code",
   "execution_count": 12,
   "id": "e1f4c93c-f8e9-48cf-afc0-0643f8fa2790",
   "metadata": {},
   "outputs": [],
   "source": [
    "from sklearn.preprocessing import StandardScaler\n",
    "\n",
    "raw_counts = X\n",
    "scaled_data = StandardScaler().fit_transform(raw_counts)"
   ]
  },
  {
   "cell_type": "code",
   "execution_count": 81,
   "id": "b1461608-5659-426c-bc4c-4d30a1ebbbf6",
   "metadata": {},
   "outputs": [
    {
     "data": {
      "text/plain": [
       "(5376, 24582)"
      ]
     },
     "execution_count": 81,
     "metadata": {},
     "output_type": "execute_result"
    }
   ],
   "source": [
    "raw_counts.shape"
   ]
  },
  {
   "cell_type": "code",
   "execution_count": 78,
   "id": "3e729d3b-f441-45d2-b14e-43eb6e183691",
   "metadata": {},
   "outputs": [
    {
     "data": {
      "text/plain": [
       "array([1098,  350,  122, ...,    0,    0,    0], dtype=int64)"
      ]
     },
     "execution_count": 78,
     "metadata": {},
     "output_type": "execute_result"
    }
   ],
   "source": [
    "raw_counts[5375]"
   ]
  },
  {
   "cell_type": "code",
   "execution_count": 79,
   "id": "020c383f-478f-4e26-8004-992bfd976d10",
   "metadata": {},
   "outputs": [
    {
     "data": {
      "text/plain": [
       "array([3.04060234, 2.54406804, 2.08635983, ..., 0.        , 0.        ,\n",
       "       0.        ])"
      ]
     },
     "execution_count": 79,
     "metadata": {},
     "output_type": "execute_result"
    }
   ],
   "source": [
    "test = np.log10(raw_counts[5375], where=raw_counts[5375] != 0)\n",
    "test"
   ]
  },
  {
   "cell_type": "code",
   "execution_count": 87,
   "id": "e34e261e-7591-4a72-89f3-5d6207c99f5a",
   "metadata": {},
   "outputs": [],
   "source": [
    "log_data = []\n",
    "for i in range(raw_counts.shape[0]):\n",
    "    log_i = np.log10(raw_counts[i], where=raw_counts[i] != 0)\n",
    "    log_data.append(log_i)"
   ]
  },
  {
   "cell_type": "code",
   "execution_count": 89,
   "id": "57a43809-b3b4-4dd4-87d5-eec7379e004e",
   "metadata": {},
   "outputs": [
    {
     "data": {
      "text/plain": [
       "array([3.04060234, 2.54406804, 2.08635983, ..., 0.        , 0.        ,\n",
       "       0.        ])"
      ]
     },
     "execution_count": 89,
     "metadata": {},
     "output_type": "execute_result"
    }
   ],
   "source": [
    "log_data[5375]"
   ]
  },
  {
   "cell_type": "markdown",
   "id": "d2d4d3c9-668b-4f62-8032-774cc1e005e8",
   "metadata": {},
   "source": [
    "# t-SNE"
   ]
  },
  {
   "cell_type": "code",
   "execution_count": 96,
   "id": "9d32c4ea-88ec-4476-b77f-f52ff69ede77",
   "metadata": {},
   "outputs": [
    {
     "name": "stderr",
     "output_type": "stream",
     "text": [
      "C:\\Users\\Jonathan\\anaconda3\\lib\\site-packages\\sklearn\\manifold\\_t_sne.py:986: FutureWarning: The PCA initialization in TSNE will change to have the standard deviation of PC1 equal to 1e-4 in 1.2. This will ensure better convergence.\n",
      "  FutureWarning,\n"
     ]
    }
   ],
   "source": [
    "tsne = TSNE(n_components=2, perplexity = 30, random_state=0, learning_rate='auto', init='pca')\n",
    "X_tsne = tsne.fit_transform(X)"
   ]
  },
  {
   "cell_type": "code",
   "execution_count": 7,
   "id": "734aa73a-eba9-4821-a1d3-b3bb321d38de",
   "metadata": {},
   "outputs": [
    {
     "name": "stdout",
     "output_type": "stream",
     "text": [
      "(5376, 2)\n"
     ]
    }
   ],
   "source": [
    "print(X_tsne.shape)"
   ]
  },
  {
   "cell_type": "code",
   "execution_count": 91,
   "id": "9e2614c8-46bc-4dc4-a52a-138bcba261ad",
   "metadata": {},
   "outputs": [
    {
     "data": {
      "text/html": [
       "<div>\n",
       "<style scoped>\n",
       "    .dataframe tbody tr th:only-of-type {\n",
       "        vertical-align: middle;\n",
       "    }\n",
       "\n",
       "    .dataframe tbody tr th {\n",
       "        vertical-align: top;\n",
       "    }\n",
       "\n",
       "    .dataframe thead th {\n",
       "        text-align: right;\n",
       "    }\n",
       "</style>\n",
       "<table border=\"1\" class=\"dataframe\">\n",
       "  <thead>\n",
       "    <tr style=\"text-align: right;\">\n",
       "      <th></th>\n",
       "      <th>t-SNE-1</th>\n",
       "      <th>t-SNE-2</th>\n",
       "    </tr>\n",
       "  </thead>\n",
       "  <tbody>\n",
       "    <tr>\n",
       "      <th>0</th>\n",
       "      <td>-5869.081055</td>\n",
       "      <td>11160.697266</td>\n",
       "    </tr>\n",
       "    <tr>\n",
       "      <th>1</th>\n",
       "      <td>-2688.902832</td>\n",
       "      <td>4442.295898</td>\n",
       "    </tr>\n",
       "    <tr>\n",
       "      <th>2</th>\n",
       "      <td>-5578.328125</td>\n",
       "      <td>10564.760742</td>\n",
       "    </tr>\n",
       "    <tr>\n",
       "      <th>3</th>\n",
       "      <td>-3094.091553</td>\n",
       "      <td>5349.318359</td>\n",
       "    </tr>\n",
       "    <tr>\n",
       "      <th>4</th>\n",
       "      <td>-6887.470703</td>\n",
       "      <td>13288.419922</td>\n",
       "    </tr>\n",
       "    <tr>\n",
       "      <th>...</th>\n",
       "      <td>...</td>\n",
       "      <td>...</td>\n",
       "    </tr>\n",
       "    <tr>\n",
       "      <th>5371</th>\n",
       "      <td>-2173.595703</td>\n",
       "      <td>3658.126709</td>\n",
       "    </tr>\n",
       "    <tr>\n",
       "      <th>5372</th>\n",
       "      <td>-11151.056641</td>\n",
       "      <td>21434.835938</td>\n",
       "    </tr>\n",
       "    <tr>\n",
       "      <th>5373</th>\n",
       "      <td>-1657.619141</td>\n",
       "      <td>2667.269287</td>\n",
       "    </tr>\n",
       "    <tr>\n",
       "      <th>5374</th>\n",
       "      <td>-2142.802734</td>\n",
       "      <td>3735.355957</td>\n",
       "    </tr>\n",
       "    <tr>\n",
       "      <th>5375</th>\n",
       "      <td>-296.082611</td>\n",
       "      <td>-145.449402</td>\n",
       "    </tr>\n",
       "  </tbody>\n",
       "</table>\n",
       "<p>5376 rows × 2 columns</p>\n",
       "</div>"
      ],
      "text/plain": [
       "           t-SNE-1       t-SNE-2\n",
       "0     -5869.081055  11160.697266\n",
       "1     -2688.902832   4442.295898\n",
       "2     -5578.328125  10564.760742\n",
       "3     -3094.091553   5349.318359\n",
       "4     -6887.470703  13288.419922\n",
       "...            ...           ...\n",
       "5371  -2173.595703   3658.126709\n",
       "5372 -11151.056641  21434.835938\n",
       "5373  -1657.619141   2667.269287\n",
       "5374  -2142.802734   3735.355957\n",
       "5375   -296.082611   -145.449402\n",
       "\n",
       "[5376 rows x 2 columns]"
      ]
     },
     "execution_count": 91,
     "metadata": {},
     "output_type": "execute_result"
    }
   ],
   "source": [
    "X_tsne_df = pd.DataFrame(X_tsne, columns = ['t-SNE-1', 't-SNE-2'])\n",
    "X_tsne_df"
   ]
  },
  {
   "cell_type": "markdown",
   "id": "af46b27b-d001-4c17-86cb-c27ef1f4028a",
   "metadata": {},
   "source": [
    "# UMAP"
   ]
  },
  {
   "cell_type": "markdown",
   "id": "3c0b1392-2953-45c4-979b-565fa759979d",
   "metadata": {},
   "source": [
    "# DBScan\n",
    "\n",
    "code modified from: https://www.reneshbedre.com/blog/dbscan-python.html"
   ]
  },
  {
   "cell_type": "code",
   "execution_count": 92,
   "id": "9486c5cb-8f98-4917-952a-8e8ee39f3148",
   "metadata": {},
   "outputs": [],
   "source": [
    "# n_neighbors = 5 as kneighbors function returns distance of point to itself (i.e. first column will be zeros) \n",
    "nbrs = NearestNeighbors(n_neighbors = 5).fit(X_tsne_df)\n",
    "# Find the k-neighbors of a point\n",
    "neigh_dist, neigh_ind = nbrs.kneighbors(X_tsne_df)\n",
    "# sort the neighbor distances (lengths to points) in ascending order\n",
    "# axis = 0 represents sort along first axis i.e. sort along row\n",
    "sort_neigh_dist = np.sort(neigh_dist, axis = 0)"
   ]
  },
  {
   "cell_type": "code",
   "execution_count": 93,
   "id": "b579c31b-c5cc-4572-8eb0-452125804770",
   "metadata": {},
   "outputs": [
    {
     "data": {
      "image/png": "[encoded data removed]",
      "text/plain": [
       "<Figure size 432x288 with 1 Axes>"
      ]
     },
     "metadata": {
      "needs_background": "light"
     },
     "output_type": "display_data"
    }
   ],
   "source": [
    "k_dist = sort_neigh_dist[:, 4]\n",
    "plt.plot(k_dist)\n",
    "plt.ylabel(\"k-NN distance\")\n",
    "plt.xlabel(\"Sorted observations (4th NN)\")\n",
    "plt.ylim([0, 200])\n",
    "plt.show()"
   ]
  },
  {
   "cell_type": "code",
   "execution_count": 94,
   "id": "16e43e20-ed0a-4d7e-9684-e4a084e02dde",
   "metadata": {},
   "outputs": [
    {
     "data": {
      "text/plain": [
       "{-1,\n",
       " 0,\n",
       " 1,\n",
       " 2,\n",
       " 3,\n",
       " 4,\n",
       " 5,\n",
       " 6,\n",
       " 7,\n",
       " 8,\n",
       " 9,\n",
       " 10,\n",
       " 11,\n",
       " 12,\n",
       " 13,\n",
       " 14,\n",
       " 15,\n",
       " 16,\n",
       " 17,\n",
       " 18,\n",
       " 19,\n",
       " 20,\n",
       " 21,\n",
       " 22,\n",
       " 23,\n",
       " 24,\n",
       " 25,\n",
       " 26,\n",
       " 27,\n",
       " 28,\n",
       " 29,\n",
       " 30,\n",
       " 31,\n",
       " 32,\n",
       " 33,\n",
       " 34,\n",
       " 35,\n",
       " 36,\n",
       " 37,\n",
       " 38,\n",
       " 39,\n",
       " 40,\n",
       " 41,\n",
       " 42,\n",
       " 43,\n",
       " 44,\n",
       " 45,\n",
       " 46,\n",
       " 47,\n",
       " 48,\n",
       " 49,\n",
       " 50,\n",
       " 51,\n",
       " 52,\n",
       " 53,\n",
       " 54,\n",
       " 55,\n",
       " 56,\n",
       " 57,\n",
       " 58,\n",
       " 59,\n",
       " 60,\n",
       " 61,\n",
       " 62,\n",
       " 63,\n",
       " 64,\n",
       " 65,\n",
       " 66,\n",
       " 67,\n",
       " 68,\n",
       " 69,\n",
       " 70,\n",
       " 71,\n",
       " 72,\n",
       " 73,\n",
       " 74,\n",
       " 75}"
      ]
     },
     "execution_count": 94,
     "metadata": {},
     "output_type": "execute_result"
    }
   ],
   "source": [
    "clusters = DBSCAN(eps = 35, min_samples = 4).fit(X_tsne_df)\n",
    "# get cluster labels\n",
    "set(clusters.labels_)"
   ]
  },
  {
   "cell_type": "code",
   "execution_count": 95,
   "id": "d00e515b-4e8f-4d4f-bee0-fea830bddc7e",
   "metadata": {},
   "outputs": [
    {
     "data": {
      "text/plain": [
       "Counter({-1: 1336,\n",
       "         19: 4,\n",
       "         0: 5,\n",
       "         5: 9,\n",
       "         1: 6,\n",
       "         2: 8,\n",
       "         27: 5,\n",
       "         3: 7,\n",
       "         4: 8,\n",
       "         14: 7,\n",
       "         9: 9,\n",
       "         6: 4,\n",
       "         7: 4,\n",
       "         8: 4,\n",
       "         12: 4,\n",
       "         10: 5,\n",
       "         11: 5,\n",
       "         13: 5,\n",
       "         15: 4,\n",
       "         16: 7,\n",
       "         17: 4,\n",
       "         18: 4,\n",
       "         20: 3475,\n",
       "         21: 10,\n",
       "         25: 3,\n",
       "         55: 12,\n",
       "         22: 5,\n",
       "         23: 10,\n",
       "         49: 10,\n",
       "         24: 26,\n",
       "         26: 7,\n",
       "         29: 15,\n",
       "         28: 10,\n",
       "         30: 11,\n",
       "         31: 5,\n",
       "         32: 5,\n",
       "         33: 6,\n",
       "         34: 11,\n",
       "         54: 8,\n",
       "         35: 4,\n",
       "         36: 6,\n",
       "         37: 10,\n",
       "         52: 4,\n",
       "         38: 11,\n",
       "         39: 18,\n",
       "         40: 10,\n",
       "         41: 14,\n",
       "         42: 12,\n",
       "         43: 11,\n",
       "         44: 4,\n",
       "         45: 5,\n",
       "         46: 5,\n",
       "         57: 11,\n",
       "         53: 4,\n",
       "         59: 4,\n",
       "         47: 8,\n",
       "         48: 23,\n",
       "         51: 7,\n",
       "         50: 5,\n",
       "         56: 29,\n",
       "         58: 4,\n",
       "         60: 7,\n",
       "         61: 4,\n",
       "         68: 5,\n",
       "         62: 5,\n",
       "         74: 4,\n",
       "         63: 4,\n",
       "         64: 8,\n",
       "         65: 5,\n",
       "         66: 5,\n",
       "         67: 5,\n",
       "         73: 5,\n",
       "         69: 8,\n",
       "         70: 4,\n",
       "         71: 4,\n",
       "         75: 4,\n",
       "         72: 7})"
      ]
     },
     "execution_count": 95,
     "metadata": {},
     "output_type": "execute_result"
    }
   ],
   "source": [
    "from collections import Counter\n",
    "Counter(clusters.labels_)"
   ]
  },
  {
   "cell_type": "code",
   "execution_count": 13,
   "id": "605fe444-5229-4d7f-97a2-ee95e4d6a48e",
   "metadata": {},
   "outputs": [
    {
     "data": {
      "image/png": "[encoded data removed]",
      "text/plain": [
       "<Figure size 432x288 with 1 Axes>"
      ]
     },
     "metadata": {
      "needs_background": "light"
     },
     "output_type": "display_data"
    }
   ],
   "source": [
    "p = sns.scatterplot(data = X_tsne_df, x = \"t-SNE-1\", y = \"t-SNE-2\", hue = clusters.labels_, legend = \"full\", palette = \"deep\")\n",
    "sns.move_legend(p, \"upper right\", bbox_to_anchor = (1.17, 1.), title = 'Clusters')\n",
    "plt.show()"
   ]
  },
  {
   "cell_type": "code",
   "execution_count": null,
   "id": "e2ad6018-f757-4dbc-8920-09a065d6eac8",
   "metadata": {},
   "outputs": [],
   "source": []
  }
 ],
 "metadata": {
  "kernelspec": {
   "display_name": "Python 3",
   "language": "python",
   "name": "python3"
  },
  "language_info": {
   "codemirror_mode": {
    "name": "ipython",
    "version": 3
   },
   "file_extension": ".py",
   "mimetype": "text/x-python",
   "name": "python",
   "nbconvert_exporter": "python",
   "pygments_lexer": "ipython3",
   "version": "3.7.12"
  }
 },
 "nbformat": 4,
 "nbformat_minor": 5
}
