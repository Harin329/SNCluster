{
 "cells": [
  {
   "cell_type": "code",
   "execution_count": 5,
   "id": "b0170aef-a103-4206-aa9b-8ac578925779",
   "metadata": {},
   "outputs": [],
   "source": [
    "import pandas as pd\n",
    "import numpy as np\n",
    "import matplotlib.pyplot as plt\n",
    "import seaborn as sns\n",
    "from sklearn.neighbors import NearestNeighbors\n",
    "from sklearn.cluster import DBSCAN\n",
    "from sklearn.manifold import TSNE\n",
    "\n",
    "np.random.seed(42)"
   ]
  },
  {
   "cell_type": "code",
   "execution_count": 2,
   "id": "e78c237a-637e-4be1-89a1-d74d2b991b3c",
   "metadata": {},
   "outputs": [],
   "source": [
    "df = pd.read_csv('./GSE150150_raw_counts.csv')"
   ]
  },
  {
   "cell_type": "code",
   "execution_count": 3,
   "id": "16992e3d-30fc-47c6-9e2f-07dc437913d5",
   "metadata": {},
   "outputs": [],
   "source": [
    "sampleDf = df\n",
    "\n",
    "# X is shape of np.array([[1, 2], [2, 3], [1, 3], [10, 1], [9, 3], [11, 3]])\n",
    "# Getting gene counts across all samples\n",
    "X = sampleDf.iloc[:,1:].values\n",
    "X = np.transpose(X)"
   ]
  },
  {
   "cell_type": "code",
   "execution_count": 6,
   "id": "9d32c4ea-88ec-4476-b77f-f52ff69ede77",
   "metadata": {},
   "outputs": [
    {
     "name": "stderr",
     "output_type": "stream",
     "text": [
      "C:\\Users\\Jonathan\\anaconda3\\lib\\site-packages\\sklearn\\manifold\\_t_sne.py:986: FutureWarning: The PCA initialization in TSNE will change to have the standard deviation of PC1 equal to 1e-4 in 1.2. This will ensure better convergence.\n",
      "  FutureWarning,\n"
     ]
    }
   ],
   "source": [
    "tsne = TSNE(n_components=2, random_state=0, learning_rate='auto', init='pca')\n",
    "X_tsne = tsne.fit_transform(X)"
   ]
  },
  {
   "cell_type": "markdown",
   "id": "3c0b1392-2953-45c4-979b-565fa759979d",
   "metadata": {},
   "source": [
    "# DBScan\n",
    "\n",
    "code modified from: https://www.reneshbedre.com/blog/dbscan-python.html"
   ]
  },
  {
   "cell_type": "code",
   "execution_count": 7,
   "id": "734aa73a-eba9-4821-a1d3-b3bb321d38de",
   "metadata": {},
   "outputs": [
    {
     "name": "stdout",
     "output_type": "stream",
     "text": [
      "(5376, 2)\n"
     ]
    }
   ],
   "source": [
    "print(X_tsne.shape)"
   ]
  },
  {
   "cell_type": "code",
   "execution_count": 8,
   "id": "9e2614c8-46bc-4dc4-a52a-138bcba261ad",
   "metadata": {},
   "outputs": [
    {
     "data": {
      "text/html": [
       "<div>\n",
       "<style scoped>\n",
       "    .dataframe tbody tr th:only-of-type {\n",
       "        vertical-align: middle;\n",
       "    }\n",
       "\n",
       "    .dataframe tbody tr th {\n",
       "        vertical-align: top;\n",
       "    }\n",
       "\n",
       "    .dataframe thead th {\n",
       "        text-align: right;\n",
       "    }\n",
       "</style>\n",
       "<table border=\"1\" class=\"dataframe\">\n",
       "  <thead>\n",
       "    <tr style=\"text-align: right;\">\n",
       "      <th></th>\n",
       "      <th>t-SNE-1</th>\n",
       "      <th>t-SNE-2</th>\n",
       "    </tr>\n",
       "  </thead>\n",
       "  <tbody>\n",
       "    <tr>\n",
       "      <th>0</th>\n",
       "      <td>-5836.036621</td>\n",
       "      <td>11110.166016</td>\n",
       "    </tr>\n",
       "    <tr>\n",
       "      <th>1</th>\n",
       "      <td>-2719.650635</td>\n",
       "      <td>4522.655273</td>\n",
       "    </tr>\n",
       "    <tr>\n",
       "      <th>2</th>\n",
       "      <td>-5591.530273</td>\n",
       "      <td>10582.592773</td>\n",
       "    </tr>\n",
       "    <tr>\n",
       "      <th>3</th>\n",
       "      <td>-3096.133301</td>\n",
       "      <td>5393.329102</td>\n",
       "    </tr>\n",
       "    <tr>\n",
       "      <th>4</th>\n",
       "      <td>-6902.272461</td>\n",
       "      <td>13295.074219</td>\n",
       "    </tr>\n",
       "    <tr>\n",
       "      <th>...</th>\n",
       "      <td>...</td>\n",
       "      <td>...</td>\n",
       "    </tr>\n",
       "    <tr>\n",
       "      <th>5371</th>\n",
       "      <td>-2167.736572</td>\n",
       "      <td>3656.808838</td>\n",
       "    </tr>\n",
       "    <tr>\n",
       "      <th>5372</th>\n",
       "      <td>-11151.647461</td>\n",
       "      <td>21437.435547</td>\n",
       "    </tr>\n",
       "    <tr>\n",
       "      <th>5373</th>\n",
       "      <td>-1667.754639</td>\n",
       "      <td>2706.948975</td>\n",
       "    </tr>\n",
       "    <tr>\n",
       "      <th>5374</th>\n",
       "      <td>-2125.596924</td>\n",
       "      <td>3727.114502</td>\n",
       "    </tr>\n",
       "    <tr>\n",
       "      <th>5375</th>\n",
       "      <td>-298.697784</td>\n",
       "      <td>-150.594238</td>\n",
       "    </tr>\n",
       "  </tbody>\n",
       "</table>\n",
       "<p>5376 rows × 2 columns</p>\n",
       "</div>"
      ],
      "text/plain": [
       "           t-SNE-1       t-SNE-2\n",
       "0     -5836.036621  11110.166016\n",
       "1     -2719.650635   4522.655273\n",
       "2     -5591.530273  10582.592773\n",
       "3     -3096.133301   5393.329102\n",
       "4     -6902.272461  13295.074219\n",
       "...            ...           ...\n",
       "5371  -2167.736572   3656.808838\n",
       "5372 -11151.647461  21437.435547\n",
       "5373  -1667.754639   2706.948975\n",
       "5374  -2125.596924   3727.114502\n",
       "5375   -298.697784   -150.594238\n",
       "\n",
       "[5376 rows x 2 columns]"
      ]
     },
     "execution_count": 8,
     "metadata": {},
     "output_type": "execute_result"
    }
   ],
   "source": [
    "X_tsne_df = pd.DataFrame(X_tsne, columns = ['t-SNE-1', 't-SNE-2'])\n",
    "X_tsne_df"
   ]
  },
  {
   "cell_type": "code",
   "execution_count": 9,
   "id": "9486c5cb-8f98-4917-952a-8e8ee39f3148",
   "metadata": {},
   "outputs": [],
   "source": [
    "# n_neighbors = 5 as kneighbors function returns distance of point to itself (i.e. first column will be zeros) \n",
    "nbrs = NearestNeighbors(n_neighbors = 5).fit(X_tsne_df)\n",
    "# Find the k-neighbors of a point\n",
    "neigh_dist, neigh_ind = nbrs.kneighbors(X_tsne_df)\n",
    "# sort the neighbor distances (lengths to points) in ascending order\n",
    "# axis = 0 represents sort along first axis i.e. sort along row\n",
    "sort_neigh_dist = np.sort(neigh_dist, axis = 0)"
   ]
  },
  {
   "cell_type": "code",
   "execution_count": 10,
   "id": "b579c31b-c5cc-4572-8eb0-452125804770",
   "metadata": {},
   "outputs": [
    {
     "data": {
      "image/png": "[encoded data removed]",
      "text/plain": [
       "<Figure size 432x288 with 1 Axes>"
      ]
     },
     "metadata": {
      "needs_background": "light"
     },
     "output_type": "display_data"
    }
   ],
   "source": [
    "k_dist = sort_neigh_dist[:, 4]\n",
    "plt.plot(k_dist)\n",
    "plt.ylabel(\"k-NN distance\")\n",
    "plt.xlabel(\"Sorted observations (4th NN)\")\n",
    "plt.ylim([0, 200])\n",
    "plt.show()"
   ]
  },
  {
   "cell_type": "code",
   "execution_count": 11,
   "id": "16e43e20-ed0a-4d7e-9684-e4a084e02dde",
   "metadata": {},
   "outputs": [
    {
     "data": {
      "text/plain": [
       "{-1,\n",
       " 0,\n",
       " 1,\n",
       " 2,\n",
       " 3,\n",
       " 4,\n",
       " 5,\n",
       " 6,\n",
       " 7,\n",
       " 8,\n",
       " 9,\n",
       " 10,\n",
       " 11,\n",
       " 12,\n",
       " 13,\n",
       " 14,\n",
       " 15,\n",
       " 16,\n",
       " 17,\n",
       " 18,\n",
       " 19,\n",
       " 20,\n",
       " 21,\n",
       " 22,\n",
       " 23,\n",
       " 24,\n",
       " 25,\n",
       " 26,\n",
       " 27,\n",
       " 28,\n",
       " 29,\n",
       " 30,\n",
       " 31,\n",
       " 32,\n",
       " 33,\n",
       " 34,\n",
       " 35,\n",
       " 36,\n",
       " 37,\n",
       " 38,\n",
       " 39,\n",
       " 40,\n",
       " 41,\n",
       " 42,\n",
       " 43,\n",
       " 44,\n",
       " 45,\n",
       " 46,\n",
       " 47,\n",
       " 48,\n",
       " 49,\n",
       " 50,\n",
       " 51,\n",
       " 52,\n",
       " 53,\n",
       " 54,\n",
       " 55,\n",
       " 56,\n",
       " 57,\n",
       " 58,\n",
       " 59,\n",
       " 60,\n",
       " 61,\n",
       " 62,\n",
       " 63,\n",
       " 64,\n",
       " 65,\n",
       " 66,\n",
       " 67,\n",
       " 68,\n",
       " 69}"
      ]
     },
     "execution_count": 11,
     "metadata": {},
     "output_type": "execute_result"
    }
   ],
   "source": [
    "clusters = DBSCAN(eps = 35, min_samples = 4).fit(X_tsne_df)\n",
    "# get cluster labels\n",
    "set(clusters.labels_)"
   ]
  },
  {
   "cell_type": "code",
   "execution_count": 12,
   "id": "d00e515b-4e8f-4d4f-bee0-fea830bddc7e",
   "metadata": {},
   "outputs": [
    {
     "data": {
      "text/plain": [
       "Counter({-1: 1350,\n",
       "         0: 11,\n",
       "         14: 6,\n",
       "         7: 4,\n",
       "         6: 9,\n",
       "         1: 8,\n",
       "         2: 5,\n",
       "         3: 6,\n",
       "         4: 9,\n",
       "         5: 6,\n",
       "         8: 4,\n",
       "         12: 4,\n",
       "         10: 4,\n",
       "         11: 5,\n",
       "         9: 6,\n",
       "         13: 4,\n",
       "         58: 5,\n",
       "         15: 3449,\n",
       "         16: 48,\n",
       "         18: 5,\n",
       "         17: 4,\n",
       "         19: 7,\n",
       "         20: 4,\n",
       "         48: 4,\n",
       "         44: 34,\n",
       "         21: 25,\n",
       "         32: 28,\n",
       "         49: 4,\n",
       "         24: 15,\n",
       "         22: 7,\n",
       "         23: 9,\n",
       "         25: 5,\n",
       "         26: 6,\n",
       "         28: 4,\n",
       "         27: 5,\n",
       "         37: 15,\n",
       "         34: 16,\n",
       "         29: 4,\n",
       "         42: 7,\n",
       "         30: 4,\n",
       "         31: 11,\n",
       "         33: 14,\n",
       "         35: 10,\n",
       "         36: 6,\n",
       "         40: 4,\n",
       "         38: 5,\n",
       "         39: 4,\n",
       "         41: 6,\n",
       "         45: 4,\n",
       "         43: 9,\n",
       "         47: 7,\n",
       "         46: 6,\n",
       "         68: 5,\n",
       "         50: 37,\n",
       "         51: 10,\n",
       "         52: 3,\n",
       "         53: 5,\n",
       "         54: 9,\n",
       "         69: 6,\n",
       "         55: 5,\n",
       "         62: 5,\n",
       "         56: 4,\n",
       "         57: 4,\n",
       "         60: 6,\n",
       "         59: 6,\n",
       "         61: 5,\n",
       "         63: 7,\n",
       "         64: 4,\n",
       "         65: 4,\n",
       "         66: 6,\n",
       "         67: 4})"
      ]
     },
     "execution_count": 12,
     "metadata": {},
     "output_type": "execute_result"
    }
   ],
   "source": [
    "from collections import Counter\n",
    "Counter(clusters.labels_)"
   ]
  },
  {
   "cell_type": "code",
   "execution_count": 13,
   "id": "605fe444-5229-4d7f-97a2-ee95e4d6a48e",
   "metadata": {},
   "outputs": [
    {
     "data": {
      "image/png": "[encoded data removed]",
      "text/plain": [
       "<Figure size 432x288 with 1 Axes>"
      ]
     },
     "metadata": {
      "needs_background": "light"
     },
     "output_type": "display_data"
    }
   ],
   "source": [
    "p = sns.scatterplot(data = X_tsne_df, x = \"t-SNE-1\", y = \"t-SNE-2\", hue = clusters.labels_, legend = \"full\", palette = \"deep\")\n",
    "sns.move_legend(p, \"upper right\", bbox_to_anchor = (1.17, 1.), title = 'Clusters')\n",
    "plt.show()"
   ]
  },
  {
   "cell_type": "code",
   "execution_count": null,
   "id": "e2ad6018-f757-4dbc-8920-09a065d6eac8",
   "metadata": {},
   "outputs": [],
   "source": []
  }
 ],
 "metadata": {
  "kernelspec": {
   "display_name": "Python 3",
   "language": "python",
   "name": "python3"
  },
  "language_info": {
   "codemirror_mode": {
    "name": "ipython",
    "version": 3
   },
   "file_extension": ".py",
   "mimetype": "text/x-python",
   "name": "python",
   "nbconvert_exporter": "python",
   "pygments_lexer": "ipython3",
   "version": "3.7.12"
  }
 },
 "nbformat": 4,
 "nbformat_minor": 5
}
