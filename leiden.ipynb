{
 "cells": [
  {
   "cell_type": "code",
   "execution_count": 8,
   "metadata": {},
   "outputs": [],
   "source": [
    "import pandas as pd\n",
    "import numpy as np\n",
    "import matplotlib.pyplot as plt\n",
    "\n",
    "np.random.seed(42)"
   ]
  },
  {
   "cell_type": "code",
   "execution_count": 9,
   "metadata": {},
   "outputs": [],
   "source": [
    "df = pd.read_csv('./GSE150150_raw_counts.csv')"
   ]
  },
  {
   "cell_type": "code",
   "execution_count": 10,
   "metadata": {},
   "outputs": [],
   "source": [
    "columns = [\"Trunk E9.5\", \"Trunk E10.5\", \"DRG E9.5\", \"DRG E10.5\", \"DRG E11.5\", \"DRG E12.5\", \"Cranio E12.5\"]\n",
    "idMappings = {\n",
    "    \"SS2_15_0085\": \"Trunk E9.5\",\n",
    "    \"SS2_18_107\": \"Trunk E10.5\",\n",
    "    \"SS2_18_108\": \"Trunk E10.5\",\n",
    "    \"SS2_18_109\": \"Trunk E10.5\",\n",
    "    \"SS2_16_767\": \"DRG E9.5\",\n",
    "    \"SS2_17_435\": \"DRG E9.5\",\n",
    "    \"SS2_16_688\": \"DRG E10.5\",\n",
    "    \"SS2_16_769\": \"DRG E10.5\",\n",
    "    \"SS2_17_432\": \"DRG E10.5\",\n",
    "    \"SS2_17_433\": \"DRG E10.5\",\n",
    "    \"SS2_16_385\": \"DRG E11.5\",\n",
    "    \"SS2_16_384\": \"DRG E12.5\",\n",
    "    \"SS2_15_0073\": \"Cranio E12.5\",\n",
    "    \"SS2_15_0169\": \"Cranio E12.5\"\n",
    "}"
   ]
  },
  {
   "cell_type": "code",
   "execution_count": 11,
   "metadata": {},
   "outputs": [
    {
     "name": "stdout",
     "output_type": "stream",
     "text": [
      "Gene Count:  24582\n",
      "Sample Row:          Gene  SS2_15_0073:A9_unique.bam  SS2_15_0073:A8_unique.bam  \\\n",
      "2350  Hoxd12                          0                          0   \n",
      "\n",
      "      SS2_15_0073:A7_unique.bam  SS2_15_0073:A6_unique.bam  \\\n",
      "2350                          0                          0   \n",
      "\n",
      "      SS2_15_0073:A5_unique.bam  SS2_15_0073:A4_unique.bam  \\\n",
      "2350                          0                          0   \n",
      "\n",
      "      SS2_15_0073:A3_unique.bam  SS2_15_0073:A2_unique.bam  \\\n",
      "2350                          0                          0   \n",
      "\n",
      "      SS2_15_0073:A10_unique.bam  ...  SS2_15_0085:P15_unique.bam  \\\n",
      "2350                           0  ...                           0   \n",
      "\n",
      "      SS2_15_0085:P16_unique.bam  SS2_15_0085:P17_unique.bam  \\\n",
      "2350                           0                           0   \n",
      "\n",
      "      SS2_15_0085:P18_unique.bam  SS2_15_0085:P19_unique.bam  \\\n",
      "2350                           0                           0   \n",
      "\n",
      "      SS2_15_0085:P20_unique.bam  SS2_15_0085:P24_unique.bam  \\\n",
      "2350                           0                           0   \n",
      "\n",
      "      SS2_15_0085:P21_unique.bam  SS2_15_0085:P23_unique.bam  \\\n",
      "2350                           0                           0   \n",
      "\n",
      "      SS2_15_0085:P22_unique.bam  \n",
      "2350                           0  \n",
      "\n",
      "[1 rows x 5377 columns]\n",
      "Sample Gene:  Hoxd12\n"
     ]
    }
   ],
   "source": [
    "print(\"Gene Count: \", len(df))\n",
    "sampleRow = df.sample()\n",
    "print(\"Sample Row: \", sampleRow)\n",
    "print(\"Sample Gene: \", sampleRow.iloc[0,0])"
   ]
  },
  {
   "cell_type": "code",
   "execution_count": 12,
   "metadata": {},
   "outputs": [
    {
     "name": "stdout",
     "output_type": "stream",
     "text": [
      "Grouped Gene Count:  24582\n",
      "Grouped Sample Row:          Gene  Trunk E10.5  Trunk E9.5  Cranio E12.5  DRG E10.5  DRG E11.5  \\\n",
      "2381  Zc3h15    29.746528   58.578125     42.153646  47.266927  51.109375   \n",
      "\n",
      "      DRG E12.5   DRG E9.5  \n",
      "2381  46.841146  54.032552  \n",
      "Grouped Sample Gene:  Zc3h15\n"
     ]
    }
   ],
   "source": [
    "import numbers\n",
    "df.columns = [idMappings[col.split(\":\")[0]] if col.split(\":\")[0] in idMappings else col for col in df.columns]\n",
    "dfParsed = df.groupby(df.columns, axis=1).apply(lambda x: x.mean(axis=1) if isinstance(x.iloc[0,0], numbers.Number) else x.iloc[:,0])\n",
    "dfParsed = dfParsed[dfParsed.columns[5:].tolist() + dfParsed.columns[:5].tolist()]\n",
    "\n",
    "print(\"Grouped Gene Count: \", len(dfParsed))\n",
    "sampleRow = dfParsed.sample()\n",
    "print(\"Grouped Sample Row: \", sampleRow)\n",
    "print(\"Grouped Sample Gene: \", sampleRow.iloc[0,0])"
   ]
  },
  {
   "attachments": {},
   "cell_type": "markdown",
   "metadata": {},
   "source": [
    "# Leiden Algorithm"
   ]
  },
  {
   "cell_type": "code",
   "execution_count": 13,
   "metadata": {},
   "outputs": [],
   "source": [
    "import leidenalg\n",
    "import networkx as nx"
   ]
  },
  {
   "cell_type": "code",
   "execution_count": 37,
   "metadata": {},
   "outputs": [
    {
     "name": "stdout",
     "output_type": "stream",
     "text": [
      "    DRG E10.5   DRG E11.5   DRG E12.5    DRG E9.5\n",
      "0  280.343099  384.346354  538.942708  710.703125\n",
      "1   59.985026   68.973958   97.622396  139.312500\n",
      "2   35.949219   46.658854   70.117188   77.486979\n",
      "3   30.908854   48.080729   61.325521   61.453125\n",
      "4    0.223307    0.023438    0.085938    0.415365\n",
      "0\n",
      "1\n",
      "2\n",
      "3\n",
      "4\n",
      "5\n",
      "6\n",
      "7\n",
      "8\n",
      "9\n",
      "10\n",
      "11\n",
      "12\n",
      "13\n",
      "14\n",
      "15\n",
      "16\n",
      "17\n",
      "18\n",
      "19\n",
      "20\n",
      "21\n",
      "22\n",
      "23\n",
      "24\n",
      "25\n",
      "26\n",
      "27\n"
     ]
    },
    {
     "ename": "KeyboardInterrupt",
     "evalue": "",
     "output_type": "error",
     "traceback": [
      "\u001b[0;31m---------------------------------------------------------------------------\u001b[0m",
      "\u001b[0;31mKeyboardInterrupt\u001b[0m                         Traceback (most recent call last)",
      "Cell \u001b[0;32mIn[37], line 15\u001b[0m\n\u001b[1;32m     13\u001b[0m \u001b[39mfor\u001b[39;00m y \u001b[39min\u001b[39;00m dfParsed\u001b[39m.\u001b[39mindex:\n\u001b[1;32m     14\u001b[0m     \u001b[39mif\u001b[39;00m x \u001b[39m!=\u001b[39m y:\n\u001b[0;32m---> 15\u001b[0m         correlation_coeff \u001b[39m=\u001b[39m dfParsed\u001b[39m.\u001b[39;49mloc[x]\u001b[39m.\u001b[39;49mcorr(dfParsed\u001b[39m.\u001b[39;49mloc[y])\n\u001b[1;32m     16\u001b[0m         \u001b[39mif\u001b[39;00m correlation_coeff \u001b[39m>\u001b[39m \u001b[39m0.9\u001b[39m:\n\u001b[1;32m     17\u001b[0m             G\u001b[39m.\u001b[39madd_edge(x, y, weight\u001b[39m=\u001b[39mcorrelation_coeff)\n",
      "File \u001b[0;32m/usr/local/lib/python3.9/site-packages/pandas/core/series.py:2508\u001b[0m, in \u001b[0;36mSeries.corr\u001b[0;34m(self, other, method, min_periods)\u001b[0m\n\u001b[1;32m   2505\u001b[0m     \u001b[39mreturn\u001b[39;00m np\u001b[39m.\u001b[39mnan\n\u001b[1;32m   2507\u001b[0m \u001b[39mif\u001b[39;00m method \u001b[39min\u001b[39;00m [\u001b[39m\"\u001b[39m\u001b[39mpearson\u001b[39m\u001b[39m\"\u001b[39m, \u001b[39m\"\u001b[39m\u001b[39mspearman\u001b[39m\u001b[39m\"\u001b[39m, \u001b[39m\"\u001b[39m\u001b[39mkendall\u001b[39m\u001b[39m\"\u001b[39m] \u001b[39mor\u001b[39;00m callable(method):\n\u001b[0;32m-> 2508\u001b[0m     \u001b[39mreturn\u001b[39;00m nanops\u001b[39m.\u001b[39;49mnancorr(\n\u001b[1;32m   2509\u001b[0m         this\u001b[39m.\u001b[39;49mvalues, other\u001b[39m.\u001b[39;49mvalues, method\u001b[39m=\u001b[39;49mmethod, min_periods\u001b[39m=\u001b[39;49mmin_periods\n\u001b[1;32m   2510\u001b[0m     )\n\u001b[1;32m   2512\u001b[0m \u001b[39mraise\u001b[39;00m \u001b[39mValueError\u001b[39;00m(\n\u001b[1;32m   2513\u001b[0m     \u001b[39m\"\u001b[39m\u001b[39mmethod must be either \u001b[39m\u001b[39m'\u001b[39m\u001b[39mpearson\u001b[39m\u001b[39m'\u001b[39m\u001b[39m, \u001b[39m\u001b[39m\"\u001b[39m\n\u001b[1;32m   2514\u001b[0m     \u001b[39m\"\u001b[39m\u001b[39m'\u001b[39m\u001b[39mspearman\u001b[39m\u001b[39m'\u001b[39m\u001b[39m, \u001b[39m\u001b[39m'\u001b[39m\u001b[39mkendall\u001b[39m\u001b[39m'\u001b[39m\u001b[39m, or a callable, \u001b[39m\u001b[39m\"\u001b[39m\n\u001b[1;32m   2515\u001b[0m     \u001b[39mf\u001b[39m\u001b[39m\"\u001b[39m\u001b[39m'\u001b[39m\u001b[39m{\u001b[39;00mmethod\u001b[39m}\u001b[39;00m\u001b[39m'\u001b[39m\u001b[39m was supplied\u001b[39m\u001b[39m\"\u001b[39m\n\u001b[1;32m   2516\u001b[0m )\n",
      "File \u001b[0;32m/usr/local/lib/python3.9/site-packages/pandas/core/nanops.py:93\u001b[0m, in \u001b[0;36mdisallow.__call__.<locals>._f\u001b[0;34m(*args, **kwargs)\u001b[0m\n\u001b[1;32m     91\u001b[0m \u001b[39mtry\u001b[39;00m:\n\u001b[1;32m     92\u001b[0m     \u001b[39mwith\u001b[39;00m np\u001b[39m.\u001b[39merrstate(invalid\u001b[39m=\u001b[39m\u001b[39m\"\u001b[39m\u001b[39mignore\u001b[39m\u001b[39m\"\u001b[39m):\n\u001b[0;32m---> 93\u001b[0m         \u001b[39mreturn\u001b[39;00m f(\u001b[39m*\u001b[39;49margs, \u001b[39m*\u001b[39;49m\u001b[39m*\u001b[39;49mkwargs)\n\u001b[1;32m     94\u001b[0m \u001b[39mexcept\u001b[39;00m \u001b[39mValueError\u001b[39;00m \u001b[39mas\u001b[39;00m e:\n\u001b[1;32m     95\u001b[0m     \u001b[39m# we want to transform an object array\u001b[39;00m\n\u001b[1;32m     96\u001b[0m     \u001b[39m# ValueError message to the more typical TypeError\u001b[39;00m\n\u001b[1;32m     97\u001b[0m     \u001b[39m# e.g. this is normally a disallowed function on\u001b[39;00m\n\u001b[1;32m     98\u001b[0m     \u001b[39m# object arrays that contain strings\u001b[39;00m\n\u001b[1;32m     99\u001b[0m     \u001b[39mif\u001b[39;00m is_object_dtype(args[\u001b[39m0\u001b[39m]):\n",
      "File \u001b[0;32m/usr/local/lib/python3.9/site-packages/pandas/core/nanops.py:1526\u001b[0m, in \u001b[0;36mnancorr\u001b[0;34m(a, b, method, min_periods)\u001b[0m\n\u001b[1;32m   1523\u001b[0m     \u001b[39mreturn\u001b[39;00m np\u001b[39m.\u001b[39mnan\n\u001b[1;32m   1525\u001b[0m f \u001b[39m=\u001b[39m get_corr_func(method)\n\u001b[0;32m-> 1526\u001b[0m \u001b[39mreturn\u001b[39;00m f(a, b)\n",
      "File \u001b[0;32m/usr/local/lib/python3.9/site-packages/pandas/core/nanops.py:1547\u001b[0m, in \u001b[0;36mget_corr_func.<locals>.func\u001b[0;34m(a, b)\u001b[0m\n\u001b[1;32m   1546\u001b[0m \u001b[39mdef\u001b[39;00m \u001b[39mfunc\u001b[39m(a, b):\n\u001b[0;32m-> 1547\u001b[0m     \u001b[39mreturn\u001b[39;00m np\u001b[39m.\u001b[39;49mcorrcoef(a, b)[\u001b[39m0\u001b[39m, \u001b[39m1\u001b[39m]\n",
      "File \u001b[0;32m<__array_function__ internals>:5\u001b[0m, in \u001b[0;36mcorrcoef\u001b[0;34m(*args, **kwargs)\u001b[0m\n",
      "File \u001b[0;32m/usr/local/lib/python3.9/site-packages/numpy/lib/function_base.py:2697\u001b[0m, in \u001b[0;36mcorrcoef\u001b[0;34m(x, y, rowvar, bias, ddof, dtype)\u001b[0m\n\u001b[1;32m   2692\u001b[0m c \u001b[39m/\u001b[39m\u001b[39m=\u001b[39m stddev[\u001b[39mNone\u001b[39;00m, :]\n\u001b[1;32m   2694\u001b[0m \u001b[39m# Clip real and imaginary parts to [-1, 1].  This does not guarantee\u001b[39;00m\n\u001b[1;32m   2695\u001b[0m \u001b[39m# abs(a[i,j]) <= 1 for complex arrays, but is the best we can do without\u001b[39;00m\n\u001b[1;32m   2696\u001b[0m \u001b[39m# excessive work.\u001b[39;00m\n\u001b[0;32m-> 2697\u001b[0m np\u001b[39m.\u001b[39;49mclip(c\u001b[39m.\u001b[39;49mreal, \u001b[39m-\u001b[39;49m\u001b[39m1\u001b[39;49m, \u001b[39m1\u001b[39;49m, out\u001b[39m=\u001b[39;49mc\u001b[39m.\u001b[39;49mreal)\n\u001b[1;32m   2698\u001b[0m \u001b[39mif\u001b[39;00m np\u001b[39m.\u001b[39miscomplexobj(c):\n\u001b[1;32m   2699\u001b[0m     np\u001b[39m.\u001b[39mclip(c\u001b[39m.\u001b[39mimag, \u001b[39m-\u001b[39m\u001b[39m1\u001b[39m, \u001b[39m1\u001b[39m, out\u001b[39m=\u001b[39mc\u001b[39m.\u001b[39mimag)\n",
      "File \u001b[0;32m<__array_function__ internals>:5\u001b[0m, in \u001b[0;36mclip\u001b[0;34m(*args, **kwargs)\u001b[0m\n",
      "File \u001b[0;32m/usr/local/lib/python3.9/site-packages/numpy/core/fromnumeric.py:2115\u001b[0m, in \u001b[0;36mclip\u001b[0;34m(a, a_min, a_max, out, **kwargs)\u001b[0m\n\u001b[1;32m   2046\u001b[0m \u001b[39m@array_function_dispatch\u001b[39m(_clip_dispatcher)\n\u001b[1;32m   2047\u001b[0m \u001b[39mdef\u001b[39;00m \u001b[39mclip\u001b[39m(a, a_min, a_max, out\u001b[39m=\u001b[39m\u001b[39mNone\u001b[39;00m, \u001b[39m*\u001b[39m\u001b[39m*\u001b[39mkwargs):\n\u001b[1;32m   2048\u001b[0m \u001b[39m    \u001b[39m\u001b[39m\"\"\"\u001b[39;00m\n\u001b[1;32m   2049\u001b[0m \u001b[39m    Clip (limit) the values in an array.\u001b[39;00m\n\u001b[1;32m   2050\u001b[0m \n\u001b[0;32m   (...)\u001b[0m\n\u001b[1;32m   2113\u001b[0m \n\u001b[1;32m   2114\u001b[0m \u001b[39m    \"\"\"\u001b[39;00m\n\u001b[0;32m-> 2115\u001b[0m     \u001b[39mreturn\u001b[39;00m _wrapfunc(a, \u001b[39m'\u001b[39;49m\u001b[39mclip\u001b[39;49m\u001b[39m'\u001b[39;49m, a_min, a_max, out\u001b[39m=\u001b[39;49mout, \u001b[39m*\u001b[39;49m\u001b[39m*\u001b[39;49mkwargs)\n",
      "File \u001b[0;32m/usr/local/lib/python3.9/site-packages/numpy/core/fromnumeric.py:51\u001b[0m, in \u001b[0;36m_wrapfunc\u001b[0;34m(obj, method, *args, **kwds)\u001b[0m\n\u001b[1;32m     47\u001b[0m         result \u001b[39m=\u001b[39m wrap(result)\n\u001b[1;32m     48\u001b[0m     \u001b[39mreturn\u001b[39;00m result\n\u001b[0;32m---> 51\u001b[0m \u001b[39mdef\u001b[39;00m \u001b[39m_wrapfunc\u001b[39m(obj, method, \u001b[39m*\u001b[39margs, \u001b[39m*\u001b[39m\u001b[39m*\u001b[39mkwds):\n\u001b[1;32m     52\u001b[0m     bound \u001b[39m=\u001b[39m \u001b[39mgetattr\u001b[39m(obj, method, \u001b[39mNone\u001b[39;00m)\n\u001b[1;32m     53\u001b[0m     \u001b[39mif\u001b[39;00m bound \u001b[39mis\u001b[39;00m \u001b[39mNone\u001b[39;00m:\n",
      "\u001b[0;31mKeyboardInterrupt\u001b[0m: "
     ]
    }
   ],
   "source": [
    "G = nx.Graph()\n",
    "\n",
    "for node in dfParsed.index:\n",
    "    G.add_node(node)\n",
    "\n",
    "\n",
    "genelessDf = dfParsed.drop(dfParsed.columns[0], axis=1)\n",
    "\n",
    "print(genelessDf.head())\n",
    "\n",
    "for x in genelessDf.index:\n",
    "    for y in genelessDf.index:\n",
    "        if x != y:\n",
    "            correlation_coeff = genelessDf.loc[x].corr(genelessDf.loc[y])\n",
    "            if correlation_coeff > 0.9:\n",
    "                G.add_edge(x, y, weight=correlation_coeff)\n",
    "    print(x)\n",
    "\n",
    "print(len(G.nodes))\n",
    "print(len(G.edges))"
   ]
  },
  {
   "cell_type": "code",
   "execution_count": null,
   "metadata": {},
   "outputs": [
    {
     "name": "stdout",
     "output_type": "stream",
     "text": [
      "Clustering with 100 elements and 6 clusters\n",
      "[0] 0, 1, 17, 18, 19, 20, 21, 29, 32, 39, 42, 50, 51, 56, 64, 65, 68, 71, 72,\n",
      "    79, 82, 90, 92, 98\n",
      "[1] 7, 10, 15, 26, 30, 31, 35, 38, 47, 48, 55, 62, 67, 77, 78, 87, 88, 97, 99\n",
      "[2] 2, 14, 25, 27, 33, 34, 43, 44, 49, 52, 57, 59, 66, 76, 84, 91\n",
      "[3] 4, 5, 6, 11, 16, 24, 36, 37, 40, 46, 53, 54, 58, 74, 85\n",
      "[4] 9, 12, 13, 23, 28, 61, 69, 73, 80, 86, 89, 93, 94\n",
      "[5] 3, 8, 22, 41, 45, 60, 63, 70, 75, 81, 83, 95, 96\n"
     ]
    }
   ],
   "source": [
    "part = leidenalg.find_partition(G, leidenalg.ModularityVertexPartition)\n",
    "print(part)"
   ]
  }
 ],
 "metadata": {
  "kernelspec": {
   "display_name": "Python 3",
   "language": "python",
   "name": "python3"
  },
  "language_info": {
   "codemirror_mode": {
    "name": "ipython",
    "version": 3
   },
   "file_extension": ".py",
   "mimetype": "text/x-python",
   "name": "python",
   "nbconvert_exporter": "python",
   "pygments_lexer": "ipython3",
   "version": "3.9.10"
  },
  "orig_nbformat": 4
 },
 "nbformat": 4,
 "nbformat_minor": 2
}
