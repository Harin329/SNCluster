{
 "cells": [
  {
   "cell_type": "code",
   "execution_count": null,
   "metadata": {},
   "outputs": [],
   "source": [
    "import pandas as pd\n",
    "import numpy as np\n",
    "import matplotlib.pyplot as plt\n",
    "\n",
    "np.random.seed(42)"
   ]
  },
  {
   "cell_type": "code",
   "execution_count": null,
   "metadata": {},
   "outputs": [],
   "source": [
    "df = pd.read_csv('./GSE150150_raw_counts.csv')"
   ]
  },
  {
   "cell_type": "code",
   "execution_count": null,
   "metadata": {},
   "outputs": [],
   "source": [
    "columns = [\"Trunk E9.5\", \"Trunk E10.5\", \"DRG E9.5\", \"DRG E10.5\", \"DRG E11.5\", \"DRG E12.5\", \"Cranio E12.5\"]\n",
    "idMappings = {\n",
    "    \"SS2_15_0085\": \"Trunk E9.5\",\n",
    "    \"SS2_18_107\": \"Trunk E10.5\",\n",
    "    \"SS2_18_108\": \"Trunk E10.5\",\n",
    "    \"SS2_18_109\": \"Trunk E10.5\",\n",
    "    \"SS2_16_767\": \"DRG E9.5\",\n",
    "    \"SS2_17_435\": \"DRG E9.5\",\n",
    "    \"SS2_16_688\": \"DRG E10.5\",\n",
    "    \"SS2_16_769\": \"DRG E10.5\",\n",
    "    \"SS2_17_432\": \"DRG E10.5\",\n",
    "    \"SS2_17_433\": \"DRG E10.5\",\n",
    "    \"SS2_16_385\": \"DRG E11.5\",\n",
    "    \"SS2_16_384\": \"DRG E12.5\",\n",
    "    \"SS2_15_0073\": \"Cranio E12.5\",\n",
    "    \"SS2_15_0169\": \"Cranio E12.5\"\n",
    "}"
   ]
  },
  {
   "cell_type": "code",
   "execution_count": null,
   "metadata": {},
   "outputs": [],
   "source": [
    "print(\"Gene Count: \", len(df))\n",
    "sampleRow = df.sample()\n",
    "print(\"Sample Row: \", sampleRow)\n",
    "print(\"Sample Gene: \", sampleRow.iloc[0,0])"
   ]
  },
  {
   "cell_type": "code",
   "execution_count": null,
   "metadata": {},
   "outputs": [],
   "source": [
    "import numbers\n",
    "df.columns = [idMappings[col.split(\":\")[0]] if col.split(\":\")[0] in idMappings else col for col in df.columns]\n",
    "dfParsed = df.groupby(df.columns, axis=1).apply(lambda x: x.mean(axis=1) if isinstance(x.iloc[0,0], numbers.Number) else x.iloc[:,0])\n",
    "dfParsed = dfParsed[dfParsed.columns[5:].tolist() + dfParsed.columns[:5].tolist()]\n",
    "\n",
    "print(\"Grouped Gene Count: \", len(dfParsed))\n",
    "sampleRow = dfParsed.sample()\n",
    "print(\"Grouped Sample Row: \", sampleRow)\n",
    "print(\"Grouped Sample Gene: \", sampleRow.iloc[0,0])"
   ]
  },
  {
   "attachments": {},
   "cell_type": "markdown",
   "metadata": {},
   "source": [
    "# Leiden Algorithm"
   ]
  },
  {
   "cell_type": "code",
   "execution_count": 2,
   "metadata": {},
   "outputs": [],
   "source": [
    "import leidenalg\n",
    "import igraph as ig"
   ]
  },
  {
   "cell_type": "code",
   "execution_count": 3,
   "metadata": {},
   "outputs": [],
   "source": [
    "G = ig.Graph.Erdos_Renyi(100, 0.1)"
   ]
  },
  {
   "cell_type": "code",
   "execution_count": 5,
   "metadata": {},
   "outputs": [
    {
     "name": "stdout",
     "output_type": "stream",
     "text": [
      "Clustering with 100 elements and 6 clusters\n",
      "[0] 0, 1, 17, 18, 19, 20, 21, 29, 32, 39, 42, 50, 51, 56, 64, 65, 68, 71, 72,\n",
      "    79, 82, 90, 92, 98\n",
      "[1] 7, 10, 15, 26, 30, 31, 35, 38, 47, 48, 55, 62, 67, 77, 78, 87, 88, 97, 99\n",
      "[2] 2, 14, 25, 27, 33, 34, 43, 44, 49, 52, 57, 59, 66, 76, 84, 91\n",
      "[3] 4, 5, 6, 11, 16, 24, 36, 37, 40, 46, 53, 54, 58, 74, 85\n",
      "[4] 9, 12, 13, 23, 28, 61, 69, 73, 80, 86, 89, 93, 94\n",
      "[5] 3, 8, 22, 41, 45, 60, 63, 70, 75, 81, 83, 95, 96\n"
     ]
    }
   ],
   "source": [
    "part = leidenalg.find_partition(G, leidenalg.ModularityVertexPartition)\n",
    "print(part)"
   ]
  }
 ],
 "metadata": {
  "kernelspec": {
   "display_name": "Python 3",
   "language": "python",
   "name": "python3"
  },
  "language_info": {
   "codemirror_mode": {
    "name": "ipython",
    "version": 3
   },
   "file_extension": ".py",
   "mimetype": "text/x-python",
   "name": "python",
   "nbconvert_exporter": "python",
   "pygments_lexer": "ipython3",
   "version": "3.9.10"
  },
  "orig_nbformat": 4
 },
 "nbformat": 4,
 "nbformat_minor": 2
}
