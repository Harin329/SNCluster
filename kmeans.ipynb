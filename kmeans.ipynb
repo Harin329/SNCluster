{
 "cells": [
  {
   "cell_type": "code",
   "execution_count": 1,
   "metadata": {},
   "outputs": [],
   "source": [
    "import pandas as pd\n",
    "import numpy as np\n",
    "import matplotlib.pyplot as plt\n",
    "\n",
    "np.random.seed(42)"
   ]
  },
  {
   "attachments": {},
   "cell_type": "markdown",
   "metadata": {},
   "source": [
    "# Explore Data"
   ]
  },
  {
   "cell_type": "code",
   "execution_count": 10,
   "metadata": {},
   "outputs": [],
   "source": [
    "df = pd.read_csv('./GSE150150_raw_counts.csv')"
   ]
  },
  {
   "cell_type": "code",
   "execution_count": 11,
   "metadata": {},
   "outputs": [],
   "source": [
    "columns = [\"Trunk E9.5\", \"Trunk E10.5\", \"DRG E9.5\", \"DRG E10.5\", \"DRG E11.5\", \"DRG E12.5\", \"Cranio E12.5\"]\n",
    "idMappings = {\n",
    "    \"SS2_15_0085\": \"Trunk E9.5\",\n",
    "    \"SS2_18_107\": \"Trunk E10.5\",\n",
    "    \"SS2_18_108\": \"Trunk E10.5\",\n",
    "    \"SS2_18_109\": \"Trunk E10.5\",\n",
    "    \"SS2_16_767\": \"DRG E9.5\",\n",
    "    \"SS2_17_435\": \"DRG E9.5\",\n",
    "    \"SS2_16_688\": \"DRG E10.5\",\n",
    "    \"SS2_16_769\": \"DRG E10.5\",\n",
    "    \"SS2_17_432\": \"DRG E10.5\",\n",
    "    \"SS2_17_433\": \"DRG E10.5\",\n",
    "    \"SS2_16_385\": \"DRG E11.5\",\n",
    "    \"SS2_16_384\": \"DRG E12.5\",\n",
    "    \"SS2_15_0073\": \"Cranio E12.5\",\n",
    "    \"SS2_15_0169\": \"Cranio E12.5\"\n",
    "}"
   ]
  },
  {
   "cell_type": "code",
   "execution_count": 12,
   "metadata": {},
   "outputs": [
    {
     "name": "stdout",
     "output_type": "stream",
     "text": [
      "Gene Count:  24582\n",
      "Sample Row:          Gene  SS2_15_0073:A9_unique.bam  SS2_15_0073:A8_unique.bam  \\\n",
      "2381  Zc3h15                         99                          8   \n",
      "\n",
      "      SS2_15_0073:A7_unique.bam  SS2_15_0073:A6_unique.bam  \\\n",
      "2381                         10                         46   \n",
      "\n",
      "      SS2_15_0073:A5_unique.bam  SS2_15_0073:A4_unique.bam  \\\n",
      "2381                          2                         64   \n",
      "\n",
      "      SS2_15_0073:A3_unique.bam  SS2_15_0073:A2_unique.bam  \\\n",
      "2381                         34                          1   \n",
      "\n",
      "      SS2_15_0073:A10_unique.bam  ...  SS2_15_0085:P15_unique.bam  \\\n",
      "2381                          34  ...                          50   \n",
      "\n",
      "      SS2_15_0085:P16_unique.bam  SS2_15_0085:P17_unique.bam  \\\n",
      "2381                          74                          81   \n",
      "\n",
      "      SS2_15_0085:P18_unique.bam  SS2_15_0085:P19_unique.bam  \\\n",
      "2381                          45                          46   \n",
      "\n",
      "      SS2_15_0085:P20_unique.bam  SS2_15_0085:P24_unique.bam  \\\n",
      "2381                          91                           0   \n",
      "\n",
      "      SS2_15_0085:P21_unique.bam  SS2_15_0085:P23_unique.bam  \\\n",
      "2381                          91                         112   \n",
      "\n",
      "      SS2_15_0085:P22_unique.bam  \n",
      "2381                          95  \n",
      "\n",
      "[1 rows x 5377 columns]\n",
      "Sample Gene:  Zc3h15\n"
     ]
    }
   ],
   "source": [
    "print(\"Gene Count: \", len(df))\n",
    "sampleRow = df.sample()\n",
    "print(\"Sample Row: \", sampleRow)\n",
    "print(\"Sample Gene: \", sampleRow.iloc[0,0])"
   ]
  },
  {
   "cell_type": "code",
   "execution_count": 33,
   "metadata": {},
   "outputs": [
    {
     "name": "stdout",
     "output_type": "stream",
     "text": [
      "Grouped Gene Count:  24582\n",
      "Grouped Sample Row:        Gene  Trunk E10.5  Trunk E9.5  Cranio E12.5  DRG E10.5   DRG E11.5  \\\n",
      "8524  Ptms    14.732639   18.122396      31.36849  47.098307  134.979167   \n",
      "\n",
      "       DRG E12.5   DRG E9.5  \n",
      "8524  107.489583  17.441406  \n",
      "Grouped Sample Gene:  Ptms\n"
     ]
    }
   ],
   "source": [
    "import numbers\n",
    "df.columns = [idMappings[col.split(\":\")[0]] if col.split(\":\")[0] in idMappings else col for col in df.columns]\n",
    "dfParsed = df.groupby(df.columns, axis=1).apply(lambda x: x.mean(axis=1) if isinstance(x.iloc[0,0], numbers.Number) else x.iloc[:,0])\n",
    "dfParsed = dfParsed[dfParsed.columns[5:].tolist() + dfParsed.columns[:5].tolist()]\n",
    "\n",
    "print(\"Grouped Gene Count: \", len(dfParsed))\n",
    "sampleRow = dfParsed.sample()\n",
    "print(\"Grouped Sample Row: \", sampleRow)\n",
    "print(\"Grouped Sample Gene: \", sampleRow.iloc[0,0])"
   ]
  },
  {
   "attachments": {},
   "cell_type": "markdown",
   "metadata": {},
   "source": [
    "# K-Means Clustering"
   ]
  },
  {
   "cell_type": "code",
   "execution_count": 46,
   "metadata": {},
   "outputs": [
    {
     "name": "stdout",
     "output_type": "stream",
     "text": [
      "Cluster Centers:  [[5.72459049e+00 6.21428914e+00 7.33764664e+00 8.12472497e+00\n",
      "  9.48254231e+00 8.87595119e+00 7.65948110e+00]\n",
      " [6.21848177e+03 5.81102865e+03 3.57358724e+03 5.45322982e+03\n",
      "  8.56351823e+03 8.26549219e+03 6.32161719e+03]\n",
      " [1.03198785e+01 3.01899089e+03 7.12492578e+03 2.78392415e+02\n",
      "  3.77416016e+02 5.22824219e+02 6.45032227e+02]\n",
      " [4.53867187e+02 4.86056526e+02 5.25212086e+02 9.73963427e+02\n",
      "  1.37891697e+03 1.12740947e+03 6.34526271e+02]\n",
      " [8.54013296e+01 1.22120309e+02 1.25043590e+02 1.30897494e+02\n",
      "  1.55010580e+02 1.39346354e+02 1.34442169e+02]]\n",
      "Labels:  [2 4 4 ... 0 0 0]\n"
     ]
    }
   ],
   "source": [
    "from sklearn.cluster import KMeans\n",
    "\n",
    "# Get 5 Random Rows for POC\n",
    "# sampleDf = df.sample(5)\n",
    "\n",
    "sampleDf = dfParsed\n",
    "\n",
    "# X is shape of (24582, 7)\n",
    "# Getting gene counts across all samples\n",
    "X = sampleDf.iloc[:,1:].values\n",
    "\n",
    "# TODO: Elbow method to determine optimal cluster number\n",
    "\n",
    "kmeans = KMeans(n_clusters=5, random_state=0).fit(X)\n",
    "print(\"Cluster Centers: \", kmeans.cluster_centers_)\n",
    "print(\"Labels: \", kmeans.labels_)"
   ]
  },
  {
   "cell_type": "code",
   "execution_count": 47,
   "metadata": {},
   "outputs": [
    {
     "name": "stdout",
     "output_type": "stream",
     "text": [
      "Label Counts:  {0: 23760, 1: 1, 2: 4, 3: 17, 4: 800}\n"
     ]
    }
   ],
   "source": [
    "unique, counts = np.unique(kmeans.labels_, return_counts=True)\n",
    "print(\"Label Counts: \", dict(zip(unique, counts)))\n"
   ]
  },
  {
   "cell_type": "code",
   "execution_count": 48,
   "metadata": {},
   "outputs": [
    {
     "name": "stderr",
     "output_type": "stream",
     "text": [
      "/usr/local/lib/python3.9/site-packages/sklearn/manifold/_t_sne.py:982: FutureWarning: The PCA initialization in TSNE will change to have the standard deviation of PC1 equal to 1e-4 in 1.2. This will ensure better convergence.\n",
      "  warnings.warn(\n",
      "/usr/local/lib/python3.9/site-packages/sklearn/manifold/_t_sne.py:982: FutureWarning: The PCA initialization in TSNE will change to have the standard deviation of PC1 equal to 1e-4 in 1.2. This will ensure better convergence.\n",
      "  warnings.warn(\n"
     ]
    },
    {
     "data": {
      "image/png": "[encoded data removed]",
      "text/plain": [
       "<Figure size 640x480 with 1 Axes>"
      ]
     },
     "metadata": {},
     "output_type": "display_data"
    }
   ],
   "source": [
    "from sklearn.manifold import TSNE\n",
    "\n",
    "# TODO: Better understand TSNE/PCA and how to best visualize clusters\n",
    "\n",
    "tsne = TSNE(n_components=2, random_state=0, learning_rate=200, init='pca')\n",
    "X_tsne = tsne.fit_transform(X)\n",
    "cluster_tsne = tsne.fit_transform(kmeans.cluster_centers_)\n",
    "\n",
    "plt.scatter(X_tsne[:, 0], X_tsne[:, 1], c=kmeans.labels_)\n",
    "plt.scatter(cluster_tsne[:, 0], cluster_tsne[:, 1], marker='*', s=200, c='green')\n",
    "plt.show()\n"
   ]
  },
  {
   "cell_type": "code",
   "execution_count": null,
   "metadata": {},
   "outputs": [],
   "source": [
    "# TODO: Pull key genes from study and see if they belong in the same cluster\n",
    "\n",
    "# TODO: Draw conclusions from the identified clusters and evaluate the clustering algorithm, see if there are any contradictions"
   ]
  }
 ],
 "metadata": {
  "kernelspec": {
   "display_name": "Python 3",
   "language": "python",
   "name": "python3"
  },
  "language_info": {
   "codemirror_mode": {
    "name": "ipython",
    "version": 3
   },
   "file_extension": ".py",
   "mimetype": "text/x-python",
   "name": "python",
   "nbconvert_exporter": "python",
   "pygments_lexer": "ipython3",
   "version": "3.9.10"
  },
  "orig_nbformat": 4
 },
 "nbformat": 4,
 "nbformat_minor": 2
}
