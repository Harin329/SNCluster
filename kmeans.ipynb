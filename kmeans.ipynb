{
 "cells": [
  {
   "cell_type": "code",
   "execution_count": 50,
   "metadata": {},
   "outputs": [],
   "source": [
    "import pandas as pd\n",
    "import numpy as np\n",
    "import matplotlib.pyplot as plt\n",
    "\n",
    "np.random.seed(42)"
   ]
  },
  {
   "attachments": {},
   "cell_type": "markdown",
   "metadata": {},
   "source": [
    "# Explore Data"
   ]
  },
  {
   "cell_type": "code",
   "execution_count": 51,
   "metadata": {},
   "outputs": [],
   "source": [
    "df = pd.read_csv('./GSE150150_raw_counts.csv')"
   ]
  },
  {
   "cell_type": "code",
   "execution_count": 52,
   "metadata": {},
   "outputs": [
    {
     "name": "stdout",
     "output_type": "stream",
     "text": [
      "Gene Count:  24582\n",
      "Sample Row:          Gene  SS2_15_0073:A9_unique.bam  SS2_15_0073:A8_unique.bam  \\\n",
      "2350  Hoxd12                          0                          0   \n",
      "\n",
      "      SS2_15_0073:A7_unique.bam  SS2_15_0073:A6_unique.bam  \\\n",
      "2350                          0                          0   \n",
      "\n",
      "      SS2_15_0073:A5_unique.bam  SS2_15_0073:A4_unique.bam  \\\n",
      "2350                          0                          0   \n",
      "\n",
      "      SS2_15_0073:A3_unique.bam  SS2_15_0073:A2_unique.bam  \\\n",
      "2350                          0                          0   \n",
      "\n",
      "      SS2_15_0073:A10_unique.bam  ...  SS2_15_0085:P15_unique.bam  \\\n",
      "2350                           0  ...                           0   \n",
      "\n",
      "      SS2_15_0085:P16_unique.bam  SS2_15_0085:P17_unique.bam  \\\n",
      "2350                           0                           0   \n",
      "\n",
      "      SS2_15_0085:P18_unique.bam  SS2_15_0085:P19_unique.bam  \\\n",
      "2350                           0                           0   \n",
      "\n",
      "      SS2_15_0085:P20_unique.bam  SS2_15_0085:P24_unique.bam  \\\n",
      "2350                           0                           0   \n",
      "\n",
      "      SS2_15_0085:P21_unique.bam  SS2_15_0085:P23_unique.bam  \\\n",
      "2350                           0                           0   \n",
      "\n",
      "      SS2_15_0085:P22_unique.bam  \n",
      "2350                           0  \n",
      "\n",
      "[1 rows x 5377 columns]\n",
      "Sample Gene:  Hoxd12\n"
     ]
    }
   ],
   "source": [
    "print(\"Gene Count: \", len(df))\n",
    "sampleRow = df.sample()\n",
    "print(\"Sample Row: \", sampleRow)\n",
    "print(\"Sample Gene: \", sampleRow.iloc[0,0])"
   ]
  },
  {
   "attachments": {},
   "cell_type": "markdown",
   "metadata": {},
   "source": [
    "# K-Means Clustering"
   ]
  },
  {
   "cell_type": "code",
   "execution_count": 64,
   "metadata": {},
   "outputs": [
    {
     "name": "stdout",
     "output_type": "stream",
     "text": [
      "Cluster Centers:  [[8.40458077e+00 3.56531467e+00 1.04578333e+01 ... 1.30324641e+01\n",
      "  1.40020748e+01 1.17507424e+01]\n",
      " [2.85600000e+03 1.07700000e+03 3.74800000e+03 ... 7.41300000e+03\n",
      "  6.91300000e+03 5.79100000e+03]]\n",
      "Labels:  [0 0 0 ... 0 0 0]\n"
     ]
    }
   ],
   "source": [
    "from sklearn.cluster import KMeans\n",
    "\n",
    "# Get 5 Random Rows for POC\n",
    "# sampleDf = df.sample(5)\n",
    "\n",
    "sampleDf = df\n",
    "\n",
    "# X is shape of np.array([[1, 2], [2, 3], [1, 3], [10, 1], [9, 3], [11, 3]])\n",
    "# Getting gene counts across all samples\n",
    "X = sampleDf.iloc[:,1:].values\n",
    "\n",
    "kmeans = KMeans(n_clusters=2, random_state=0).fit(X)\n",
    "print(\"Cluster Centers: \", kmeans.cluster_centers_)\n",
    "print(\"Labels: \", kmeans.labels_)"
   ]
  },
  {
   "cell_type": "code",
   "execution_count": 65,
   "metadata": {},
   "outputs": [
    {
     "data": {
      "image/png": "[encoded data removed]",
      "text/plain": [
       "<Figure size 640x480 with 1 Axes>"
      ]
     },
     "metadata": {},
     "output_type": "display_data"
    }
   ],
   "source": [
    "from sklearn.manifold import TSNE\n",
    "\n",
    "tsne = TSNE(n_components=2, random_state=0, learning_rate=200, init='random')\n",
    "X_tsne = tsne.fit_transform(X)\n",
    "\n",
    "plt.scatter(X_tsne[:, 0], X_tsne[:, 1], c=kmeans.labels_)\n",
    "plt.scatter(kmeans.cluster_centers_[:, 0], kmeans.cluster_centers_[:, 1], marker='*', s=200, c='green')\n",
    "plt.show()\n"
   ]
  }
 ],
 "metadata": {
  "kernelspec": {
   "display_name": "Python 3",
   "language": "python",
   "name": "python3"
  },
  "language_info": {
   "codemirror_mode": {
    "name": "ipython",
    "version": 3
   },
   "file_extension": ".py",
   "mimetype": "text/x-python",
   "name": "python",
   "nbconvert_exporter": "python",
   "pygments_lexer": "ipython3",
   "version": "3.9.10"
  },
  "orig_nbformat": 4
 },
 "nbformat": 4,
 "nbformat_minor": 2
}
