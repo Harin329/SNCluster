{
 "cells": [
  {
   "cell_type": "code",
   "execution_count": 50,
   "metadata": {},
   "outputs": [],
   "source": [
    "import pandas as pd\n",
    "import numpy as np\n",
    "import matplotlib.pyplot as plt\n",
    "\n",
    "np.random.seed(42)"
   ]
  },
  {
   "attachments": {},
   "cell_type": "markdown",
   "metadata": {},
   "source": [
    "# Explore Data"
   ]
  },
  {
   "cell_type": "code",
   "execution_count": 51,
   "metadata": {},
   "outputs": [],
   "source": [
    "df = pd.read_csv('./GSE150150_raw_counts.csv')"
   ]
  },
  {
   "cell_type": "code",
   "execution_count": 52,
   "metadata": {},
   "outputs": [
    {
     "name": "stdout",
     "output_type": "stream",
     "text": [
      "Gene Count:  24582\n",
      "Sample Row:          Gene  SS2_15_0073:A9_unique.bam  SS2_15_0073:A8_unique.bam  \\\n",
      "2350  Hoxd12                          0                          0   \n",
      "\n",
      "      SS2_15_0073:A7_unique.bam  SS2_15_0073:A6_unique.bam  \\\n",
      "2350                          0                          0   \n",
      "\n",
      "      SS2_15_0073:A5_unique.bam  SS2_15_0073:A4_unique.bam  \\\n",
      "2350                          0                          0   \n",
      "\n",
      "      SS2_15_0073:A3_unique.bam  SS2_15_0073:A2_unique.bam  \\\n",
      "2350                          0                          0   \n",
      "\n",
      "      SS2_15_0073:A10_unique.bam  ...  SS2_15_0085:P15_unique.bam  \\\n",
      "2350                           0  ...                           0   \n",
      "\n",
      "      SS2_15_0085:P16_unique.bam  SS2_15_0085:P17_unique.bam  \\\n",
      "2350                           0                           0   \n",
      "\n",
      "      SS2_15_0085:P18_unique.bam  SS2_15_0085:P19_unique.bam  \\\n",
      "2350                           0                           0   \n",
      "\n",
      "      SS2_15_0085:P20_unique.bam  SS2_15_0085:P24_unique.bam  \\\n",
      "2350                           0                           0   \n",
      "\n",
      "      SS2_15_0085:P21_unique.bam  SS2_15_0085:P23_unique.bam  \\\n",
      "2350                           0                           0   \n",
      "\n",
      "      SS2_15_0085:P22_unique.bam  \n",
      "2350                           0  \n",
      "\n",
      "[1 rows x 5377 columns]\n",
      "Sample Gene:  Hoxd12\n"
     ]
    }
   ],
   "source": [
    "print(\"Gene Count: \", len(df))\n",
    "sampleRow = df.sample()\n",
    "print(\"Sample Row: \", sampleRow)\n",
    "print(\"Sample Gene: \", sampleRow.iloc[0,0])"
   ]
  },
  {
   "attachments": {},
   "cell_type": "markdown",
   "metadata": {},
   "source": [
    "# K-Means Clustering"
   ]
  },
  {
   "cell_type": "code",
   "execution_count": 73,
   "metadata": {},
   "outputs": [
    {
     "name": "stdout",
     "output_type": "stream",
     "text": [
      "Cluster Centers:  [[4.92042119e+02 1.12673261e+02 6.63497128e+01 ... 0.00000000e+00\n",
      "  0.00000000e+00 1.65922144e-02]\n",
      " [4.59812339e+02 1.32848008e+02 6.21368895e+01 ... 0.00000000e+00\n",
      "  0.00000000e+00 5.78406170e-03]\n",
      " [1.76600000e+02 2.25000000e+01 1.93000000e+01 ... 0.00000000e+00\n",
      "  0.00000000e+00 0.00000000e+00]\n",
      " [6.02143575e+03 2.13073117e+03 8.47994092e+02 ... 0.00000000e+00\n",
      "  0.00000000e+00 5.89805982e-17]]\n",
      "Labels:  [3 1 3 ... 1 1 1]\n"
     ]
    }
   ],
   "source": [
    "from sklearn.cluster import KMeans\n",
    "\n",
    "# Get 5 Random Rows for POC\n",
    "# sampleDf = df.sample(5)\n",
    "\n",
    "sampleDf = df\n",
    "\n",
    "# X is shape of np.array([[1, 2], [2, 3], [1, 3], [10, 1], [9, 3], [11, 3]])\n",
    "# Getting gene counts across all samples\n",
    "X = sampleDf.iloc[:,1:].values\n",
    "X = np.transpose(X)\n",
    "\n",
    "kmeans = KMeans(n_clusters=4, random_state=0).fit(X)\n",
    "print(\"Cluster Centers: \", kmeans.cluster_centers_)\n",
    "print(\"Labels: \", kmeans.labels_)"
   ]
  },
  {
   "cell_type": "code",
   "execution_count": 84,
   "metadata": {},
   "outputs": [
    {
     "name": "stderr",
     "output_type": "stream",
     "text": [
      "/usr/local/lib/python3.9/site-packages/sklearn/manifold/_t_sne.py:982: FutureWarning: The PCA initialization in TSNE will change to have the standard deviation of PC1 equal to 1e-4 in 1.2. This will ensure better convergence.\n",
      "  warnings.warn(\n",
      "/usr/local/lib/python3.9/site-packages/sklearn/manifold/_t_sne.py:982: FutureWarning: The PCA initialization in TSNE will change to have the standard deviation of PC1 equal to 1e-4 in 1.2. This will ensure better convergence.\n",
      "  warnings.warn(\n"
     ]
    },
    {
     "data": {
      "image/png": "[encoded data removed]",
      "text/plain": [
       "<Figure size 640x480 with 1 Axes>"
      ]
     },
     "metadata": {},
     "output_type": "display_data"
    }
   ],
   "source": [
    "from sklearn.manifold import TSNE\n",
    "\n",
    "tsne = TSNE(n_components=2, random_state=0, learning_rate=200, init='pca')\n",
    "X_tsne = tsne.fit_transform(X)\n",
    "cluster_tsne = tsne.fit_transform(kmeans.cluster_centers_)\n",
    "\n",
    "plt.scatter(X_tsne[:, 0], X_tsne[:, 1], c=kmeans.labels_)\n",
    "plt.scatter(cluster_tsne[:, 0], cluster_tsne[:, 1], marker='*', s=200, c='green')\n",
    "plt.show()\n"
   ]
  }
 ],
 "metadata": {
  "kernelspec": {
   "display_name": "Python 3",
   "language": "python",
   "name": "python3"
  },
  "language_info": {
   "codemirror_mode": {
    "name": "ipython",
    "version": 3
   },
   "file_extension": ".py",
   "mimetype": "text/x-python",
   "name": "python",
   "nbconvert_exporter": "python",
   "pygments_lexer": "ipython3",
   "version": "3.9.10"
  },
  "orig_nbformat": 4
 },
 "nbformat": 4,
 "nbformat_minor": 2
}
